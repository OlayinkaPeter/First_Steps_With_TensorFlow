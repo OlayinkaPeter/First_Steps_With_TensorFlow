{
  "nbformat": 4,
  "nbformat_minor": 0,
  "metadata": {
    "colab": {
      "name": "cwp_circumference_of_a_circle.ipynb",
      "provenance": [],
      "authorship_tag": "ABX9TyNfDjAK4shVjndPqvK5/w6t",
      "include_colab_link": true
    },
    "kernelspec": {
      "name": "python3",
      "display_name": "Python 3"
    }
  },
  "cells": [
    {
      "cell_type": "markdown",
      "metadata": {
        "id": "view-in-github",
        "colab_type": "text"
      },
      "source": [
        "<a href=\"https://colab.research.google.com/github/OlayinkaPeter/First_Steps_With_TensorFlow/blob/master/cwp_circumference_of_a_circle.ipynb\" target=\"_parent\"><img src=\"https://colab.research.google.com/assets/colab-badge.svg\" alt=\"Open In Colab\"/></a>"
      ]
    },
    {
      "cell_type": "markdown",
      "metadata": {
        "id": "e0oyvpNFaTcL",
        "colab_type": "text"
      },
      "source": [
        "##### Copyright 2018 Olayinka Peter.\n",
        "\n",
        "\n"
      ]
    },
    {
      "cell_type": "markdown",
      "metadata": {
        "colab_type": "text",
        "id": "ZIAkIlfmCe1B"
      },
      "source": [
        "# First Steps With TensorFlow — Finding the Circumference of any Circle."
      ]
    },
    {
      "cell_type": "markdown",
      "metadata": {
        "id": "k7rqi9t_OG8r",
        "colab_type": "text"
      },
      "source": [
        "Here's simple example where we’ll use TensorFlow to find the Circumference of any circle, given the radius.\n",
        "\n",
        "We already know that the formula for finding the circumference of a circle with it’s radius is \n",
        "$$ 𝐶 = 2π𝑟 $$ where $$ c =𝑐𝑖𝑟𝑐𝑢𝑚𝑓𝑒𝑟𝑒𝑛𝑐𝑒,𝑟=𝑟𝑎𝑑𝑖𝑢𝑠,π=3.14 $$\n",
        "\n",
        "But our tensorflow model doesn’t know that rule, and we want it to find it’s own rule for correctly calculating circumferences.\n",
        "\n",
        "We’ll do this by allowing our tensorflow model to go through some set of radius values and their corresponding circumference values and try to find out the relationship between them."
      ]
    },
    {
      "cell_type": "markdown",
      "metadata": {
        "id": "1e57FQMjbrur",
        "colab_type": "text"
      },
      "source": [
        "## Import dependencies\n",
        "\n",
        "First, we'll import TensorFlow as tf.\n",
        "\n",
        "We'll also import Numpy to help us represent our data"
      ]
    },
    {
      "cell_type": "code",
      "metadata": {
        "id": "JDZCb9tAAPBf",
        "colab_type": "code",
        "colab": {}
      },
      "source": [
        "import tensorflow as tf\n",
        "import numpy as np"
      ],
      "execution_count": 19,
      "outputs": []
    },
    {
      "cell_type": "markdown",
      "metadata": {
        "id": "hQnJynSUcSsJ",
        "colab_type": "text"
      },
      "source": [
        "## Provide the data\n",
        "\n",
        "Next, we create two lists `radius_values` and `circumference_values` that hold the set of data to be used to train our model."
      ]
    },
    {
      "cell_type": "code",
      "metadata": {
        "id": "C_mmFjeuCnO0",
        "colab_type": "code",
        "colab": {
          "base_uri": "https://localhost:8080/",
          "height": 221
        },
        "outputId": "75e4269b-eb45-4702-f8f6-1b14322eaef7"
      },
      "source": [
        "radius_values         = np.array([2.0, 4.0, 8.0, 7.0, 6.0, 5.0, 1.0, 11.0, 3.0, 5.0, 4.0, 2.0],  dtype=float)\n",
        "circumference_values  = np.array([12.57, 25.13, 50.27, 43.98, 37.70, 31.42, 6.28, 69.12, 18.85, 31.42, 25.13, 12.57],  dtype=float)\n",
        "\n",
        "for i, r in enumerate(radius_values):\n",
        "  print(\"Given radius to be = {}, the Circumference = {}\".format(r, circumference_values[i]))"
      ],
      "execution_count": 20,
      "outputs": [
        {
          "output_type": "stream",
          "text": [
            "Given radius to be = 2.0, the Circumference = 12.57\n",
            "Given radius to be = 4.0, the Circumference = 25.13\n",
            "Given radius to be = 8.0, the Circumference = 50.27\n",
            "Given radius to be = 7.0, the Circumference = 43.98\n",
            "Given radius to be = 6.0, the Circumference = 37.7\n",
            "Given radius to be = 5.0, the Circumference = 31.42\n",
            "Given radius to be = 1.0, the Circumference = 6.28\n",
            "Given radius to be = 11.0, the Circumference = 69.12\n",
            "Given radius to be = 3.0, the Circumference = 18.85\n",
            "Given radius to be = 5.0, the Circumference = 31.42\n",
            "Given radius to be = 4.0, the Circumference = 25.13\n",
            "Given radius to be = 2.0, the Circumference = 12.57\n"
          ],
          "name": "stdout"
        }
      ]
    },
    {
      "cell_type": "markdown",
      "metadata": {
        "id": "GFOLPHGRdJpd",
        "colab_type": "text"
      },
      "source": [
        "## Create the model — a simple Neural Network\n",
        "\n",
        "Next, we will create the simplest possible neural network. Since the problem is straightforward, this network will require only a single layer, with a single neuron, with input shape as just 1 value."
      ]
    },
    {
      "cell_type": "code",
      "metadata": {
        "id": "bL1Gzeq9GOXX",
        "colab_type": "code",
        "colab": {}
      },
      "source": [
        "model = tf.keras.Sequential([keras.layers.Dense(units=1, input_shape=[1])])"
      ],
      "execution_count": 21,
      "outputs": []
    },
    {
      "cell_type": "markdown",
      "metadata": {
        "id": "hTL-h4RCrSNZ",
        "colab_type": "text"
      },
      "source": [
        "## Compile the model, with loss and optimizer functions\n",
        "\n",
        "Our model has to be compiled before training. And to do compile, we must specify 2 functions, a loss and an optimizer.\n",
        "\n",
        "Loss function is a way of measuring how far off predictions are from the desired outcome. While Optimizer function is a way of adjusting internal values in order to reduce the loss.\n",
        "\n",
        "For the loss, we use the MEAN SQUARED ERROR, and for the optimizer, we'll use the STOCHASTIC GRADIENT DESCENT."
      ]
    },
    {
      "cell_type": "code",
      "metadata": {
        "id": "SXvB4TplGOlZ",
        "colab_type": "code",
        "colab": {}
      },
      "source": [
        "model.compile(loss='mean_squared_error', optimizer='sgd')"
      ],
      "execution_count": 22,
      "outputs": []
    },
    {
      "cell_type": "markdown",
      "metadata": {
        "id": "SVK0RwEisbun",
        "colab_type": "text"
      },
      "source": [
        "## Train the model\n",
        "\n",
        "We call `model.fit` to train our neural network. \n",
        "\n",
        "This is the process where the model learns the relationship between the radius values and their corresponding circumference values.\n",
        "\n",
        "Hence, the `fit()` method takes in the `radius_values` (as features), the `circumference_values` (as labels). The epochs argument depicts how many times the cycle would be run, while the verbose argument controls how much output the method produces."
      ]
    },
    {
      "cell_type": "code",
      "metadata": {
        "id": "xClxxS_RGOw5",
        "colab_type": "code",
        "colab": {
          "base_uri": "https://localhost:8080/",
          "height": 34
        },
        "outputId": "53a1496d-4211-4ae8-ef7f-ee28669fa317"
      },
      "source": [
        "history = model.fit(radius_values, circumference_values, epochs=500, verbose=False)\n",
        "print(\"Finished training the model\")"
      ],
      "execution_count": 23,
      "outputs": [
        {
          "output_type": "stream",
          "text": [
            "Finished training the model\n"
          ],
          "name": "stdout"
        }
      ]
    },
    {
      "cell_type": "markdown",
      "metadata": {
        "id": "nYb1Jr3QvT4s",
        "colab_type": "text"
      },
      "source": [
        "## Plot training statistics\n",
        "\n",
        "The history object that we assigned to the `fit` method can be used to plot the loss of our model.\n",
        "\n",
        "Let's use [Matplotlib](https://matplotlib.org/) to visualize the gradient of the loss.\n"
      ]
    },
    {
      "cell_type": "code",
      "metadata": {
        "id": "KP7NsWqhGOvo",
        "colab_type": "code",
        "colab": {
          "base_uri": "https://localhost:8080/",
          "height": 296
        },
        "outputId": "6484bb45-8de4-4704-96fb-421aa1e3ce74"
      },
      "source": [
        "import matplotlib.pyplot as plt\n",
        "\n",
        "plt.xlabel('Epoch Number')\n",
        "plt.ylabel(\"Loss Magnitude\")\n",
        "plt.plot(history.history['loss'])"
      ],
      "execution_count": 24,
      "outputs": [
        {
          "output_type": "execute_result",
          "data": {
            "text/plain": [
              "[<matplotlib.lines.Line2D at 0x7f536b1232e8>]"
            ]
          },
          "metadata": {
            "tags": []
          },
          "execution_count": 24
        },
        {
          "output_type": "display_data",
          "data": {
            "image/png": "[encoded data removed]",
            "text/plain": [
              "<Figure size 432x288 with 1 Axes>"
            ]
          },
          "metadata": {
            "tags": [],
            "needs_background": "light"
          }
        }
      ]
    },
    {
      "cell_type": "markdown",
      "metadata": {
        "id": "Q0ue2_4CtxTS",
        "colab_type": "text"
      },
      "source": [
        "## Predict new values with our model\n",
        "\n",
        "Let's now pick a random number for radius and ask our model to predict it's circumference.\n",
        "\n",
        "We'll try 10.0\n",
        "\n",
        "\n"
      ]
    },
    {
      "cell_type": "code",
      "metadata": {
        "id": "G_AKuA5nGOq_",
        "colab_type": "code",
        "colab": {
          "base_uri": "https://localhost:8080/",
          "height": 34
        },
        "outputId": "5688e6e3-9590-40a8-c3e4-43e4bb6d428f"
      },
      "source": [
        "print(model.predict([10.0]))"
      ],
      "execution_count": 25,
      "outputs": [
        {
          "output_type": "stream",
          "text": [
            "[[62.768448]]\n"
          ],
          "name": "stdout"
        }
      ]
    },
    {
      "cell_type": "markdown",
      "metadata": {
        "id": "kV0Vozk7vECe",
        "colab_type": "text"
      },
      "source": [
        "The result 62.8 looks really good. \n",
        "\n",
        "The correct answer is  2 × 3.14 × 10.0 = 62.83 , so our model is doing really well.\n",
        "\n",
        "Our model can now correctly provide the circumference of any circle, given it's radius."
      ]
    }
  ]
}